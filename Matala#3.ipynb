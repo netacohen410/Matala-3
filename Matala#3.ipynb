{
 "cells": [
  {
   "cell_type": "code",
   "execution_count": 60,
   "metadata": {},
   "outputs": [],
   "source": [
    "import requests\n",
    "import urllib.request\n",
    "import pandas as pd"
   ]
  },
  {
   "cell_type": "code",
   "execution_count": 204,
   "metadata": {
    "scrolled": true
   },
   "outputs": [],
   "source": [
    "api_key = 'inser api code here'\n",
    "origin = 'Tel Aviv'\n",
    "\n",
    "target = []\n",
    "distance_km = []\n",
    "duration = []\n",
    "longitude = []\n",
    "latitude = []\n",
    "\n",
    "file = open(\"insert file path\")\n",
    "\n",
    "for line in file:\n",
    "    target.append(line.strip())\n",
    "\n",
    "    dist_url = 'https://maps.googleapis.com/maps/api/distancematrix/json?origins=%s&destinations=%s&key=%s' % (origin,line,api_key)\n",
    "    response1 = requests.get(dist_url).json()\n",
    "    \n",
    "    row1 = response1['rows'][0]['elements'][0]\n",
    "    dist = row1['distance']['value']/1000\n",
    "    dur_minutes = row1['duration']['value']/60\n",
    "    dur_hours = int(dur_minutes // 60)\n",
    "    dur_minutes = int(dur_minutes % 60)\n",
    "    \n",
    "    \n",
    "    geo_url = 'https://maps.googleapis.com/maps/api/geocode/json?address=%s&key=%s' % (line,api_key)\n",
    "    response2 = requests.get(geo_url).json()\n",
    "    \n",
    "    row2 = response2['results'][0]['geometry']['location']\n",
    "    long = row2['lng']\n",
    "    lat = row2['lat']\n",
    "    \n",
    "    distance_km.append(dist)\n",
    "    duration.append(f'{dur_hours:02d}:{dur_minutes:02d}')\n",
    "    longitude.append(long)\n",
    "    latitude.append(lat)\n",
    "\n",
    "    \n",
    "data = {'Target':target, 'Distance_KM':distance_km, 'Duration':duration, 'Longitude':longitude, 'Latitude':latitude}\n",
    "df = pd.DataFrame(data)"
   ]
  },
  {
   "cell_type": "code",
   "execution_count": 205,
   "metadata": {
    "scrolled": true
   },
   "outputs": [
    {
     "data": {
      "text/html": [
       "<div>\n",
       "<style scoped>\n",
       "    .dataframe tbody tr th:only-of-type {\n",
       "        vertical-align: middle;\n",
       "    }\n",
       "\n",
       "    .dataframe tbody tr th {\n",
       "        vertical-align: top;\n",
       "    }\n",
       "\n",
       "    .dataframe thead th {\n",
       "        text-align: right;\n",
       "    }\n",
       "</style>\n",
       "<table border=\"1\" class=\"dataframe\">\n",
       "  <thead>\n",
       "    <tr style=\"text-align: right;\">\n",
       "      <th></th>\n",
       "      <th>Target</th>\n",
       "      <th>Distance_KM</th>\n",
       "      <th>Duration</th>\n",
       "      <th>Longitude</th>\n",
       "      <th>Latitude</th>\n",
       "    </tr>\n",
       "  </thead>\n",
       "  <tbody>\n",
       "    <tr>\n",
       "      <th>0</th>\n",
       "      <td>Istanbul</td>\n",
       "      <td>1815.227</td>\n",
       "      <td>21:02</td>\n",
       "      <td>28.978359</td>\n",
       "      <td>41.008238</td>\n",
       "    </tr>\n",
       "    <tr>\n",
       "      <th>1</th>\n",
       "      <td>Amsterdam</td>\n",
       "      <td>4532.541</td>\n",
       "      <td>48:03</td>\n",
       "      <td>4.904139</td>\n",
       "      <td>52.367573</td>\n",
       "    </tr>\n",
       "    <tr>\n",
       "      <th>2</th>\n",
       "      <td>Valletta</td>\n",
       "      <td>3792.881</td>\n",
       "      <td>50:52</td>\n",
       "      <td>14.514100</td>\n",
       "      <td>35.899237</td>\n",
       "    </tr>\n",
       "    <tr>\n",
       "      <th>3</th>\n",
       "      <td>Basel</td>\n",
       "      <td>4092.805</td>\n",
       "      <td>44:02</td>\n",
       "      <td>7.588576</td>\n",
       "      <td>47.559599</td>\n",
       "    </tr>\n",
       "    <tr>\n",
       "      <th>4</th>\n",
       "      <td>Doha</td>\n",
       "      <td>2164.477</td>\n",
       "      <td>22:38</td>\n",
       "      <td>51.531040</td>\n",
       "      <td>25.285447</td>\n",
       "    </tr>\n",
       "  </tbody>\n",
       "</table>\n",
       "</div>"
      ],
      "text/plain": [
       "      Target  Distance_KM Duration  Longitude   Latitude\n",
       "0   Istanbul     1815.227    21:02  28.978359  41.008238\n",
       "1  Amsterdam     4532.541    48:03   4.904139  52.367573\n",
       "2   Valletta     3792.881    50:52  14.514100  35.899237\n",
       "3      Basel     4092.805    44:02   7.588576  47.559599\n",
       "4       Doha     2164.477    22:38  51.531040  25.285447"
      ]
     },
     "execution_count": 205,
     "metadata": {},
     "output_type": "execute_result"
    }
   ],
   "source": [
    "df"
   ]
  },
  {
   "cell_type": "code",
   "execution_count": 206,
   "metadata": {},
   "outputs": [
    {
     "data": {
      "text/plain": [
       "1    Amsterdam\n",
       "3        Basel\n",
       "2     Valletta\n",
       "Name: Target, dtype: object"
      ]
     },
     "execution_count": 206,
     "metadata": {},
     "output_type": "execute_result"
    }
   ],
   "source": [
    "df_sorted = df.sort_values(by='Distance_KM', ascending=False)\n",
    "top3 = df_sorted['Target'].head(3)\n",
    "top3"
   ]
  }
 ],
 "metadata": {
  "kernelspec": {
   "display_name": "Python 3",
   "language": "python",
   "name": "python3"
  },
  "language_info": {
   "codemirror_mode": {
    "name": "ipython",
    "version": 3
   },
   "file_extension": ".py",
   "mimetype": "text/x-python",
   "name": "python",
   "nbconvert_exporter": "python",
   "pygments_lexer": "ipython3",
   "version": "3.8.3"
  }
 },
 "nbformat": 4,
 "nbformat_minor": 4
}
